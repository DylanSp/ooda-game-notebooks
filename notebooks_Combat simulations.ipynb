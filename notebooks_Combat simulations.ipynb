{
  "metadata": {
    "language_info": {
      "codemirror_mode": {
        "name": "python",
        "version": 3
      },
      "file_extension": ".py",
      "mimetype": "text/x-python",
      "name": "python",
      "nbconvert_exporter": "python",
      "pygments_lexer": "ipython3",
      "version": "3.8"
    },
    "kernelspec": {
      "name": "python",
      "display_name": "Pyolite",
      "language": "python"
    }
  },
  "nbformat_minor": 4,
  "nbformat": 4,
  "cells": [
    {
      "cell_type": "markdown",
      "source": "# Current Status\n\n* Infrastructure for calculating probabilities is defined\n* Only one scenario is defined\n* needs better UI",
      "metadata": {}
    },
    {
      "cell_type": "code",
      "source": "unit_stats = {\n    'level1': {\n        'attack': 2,\n        'defense': 4\n    },\n    'level2': {\n        'attack': 3,\n        'defense': 5\n    }\n}\n\naction_stats = {\n    'level1': {\n        'hasty': -1,\n        'deliberate': 1\n    },\n    'level2': {\n        'hasty': 0,\n        'deliberate': 2\n    }\n}\n\nadjacent_unit_defense_bonus = 1",
      "metadata": {
        "trusted": true
      },
      "execution_count": 7,
      "outputs": []
    },
    {
      "cell_type": "code",
      "source": "def get_required_roll_to_win(num_lvl1_attackers, num_lvl1_defenders, num_lvl2_attackers, num_lvl2_defenders, action_modifier, num_adjacent_defenders):\n    attack_modifier = (num_lvl1_attackers * unit_stats['level1']['attack']) + (num_lvl2_attackers * unit_stats['level2']['attack']) + action_modifier\n    defense_modifier = (num_lvl1_defenders * unit_stats['level1']['defense']) + (num_lvl2_defenders * unit_stats['level2']['defense']) + (num_adjacent_defenders * adjacent_unit_defense_bonus)\n    return defense_modifier + 1 - attack_modifier",
      "metadata": {
        "trusted": true
      },
      "execution_count": 8,
      "outputs": []
    },
    {
      "cell_type": "code",
      "source": "from dataclasses import dataclass\n\n@dataclass\nclass UnitGroup:\n    lvl1: int\n    lvl2: int\n\n@dataclass\nclass Scenario:\n    name: str\n    attackers: UnitGroup\n    defenders: UnitGroup\n    action_modifier: int\n    adjacent_defenders: int\n\n\ndef get_scenario_roll_to_win(scenario):\n    return get_required_roll_to_win(scenario.attackers.lvl1, scenario.defenders.lvl1, scenario.attackers.lvl2, scenario.defenders.lvl2, scenario.action_modifier, scenario.adjacent_defenders)\n",
      "metadata": {
        "trusted": true
      },
      "execution_count": 9,
      "outputs": []
    },
    {
      "cell_type": "code",
      "source": "from scipy import stats\nfrom scipy.stats import randint\nimport numpy as np\nimport itertools\n\ndef dice_distribution(num_dice, min_roll, max_roll):\n    single_dice_possible_rolls = np.arange(min_roll, max_roll + 1)\n    roll_range = max_roll + 1 - min_roll\n    single_dice_probabilities = [1 / roll_range] * roll_range\n    single_dice_zipped = zip(single_dice_possible_rolls, single_dice_probabilities)\n    \n    # all possible combinations of dice rolls\n    cartesian_product = list(itertools.product(single_dice_zipped, repeat = num_dice))\n\n    possible_results = {}\n    for possible_combination in cartesian_product:\n        total = 0\n        probability = 1\n        for (roll_result, roll_probability) in possible_combination:\n            total += roll_result\n            probability *= roll_probability\n            \n        if total not in possible_results:\n            possible_results[total] = 0\n        possible_results[total] += probability\n        \n    all_dice_possible_rolls = []\n    all_dice_probabilities = []\n    for possible_roll, probability in possible_results.items():\n        all_dice_possible_rolls.append(possible_roll)\n        all_dice_probabilities.append(probability)\n        \n    return stats.rv_discrete(values=(all_dice_possible_rolls, all_dice_probabilities))\n\ndistro_2d6 = dice_distribution(2, 1, 6)\n\nsingle_dice = {\n    \"d4\": (1, 5),\n    \"d6\": (1, 7)\n}\n\n\ndef probability_of_roll_geq_than_value(distro, value):\n    return distro.sf(value - 1) # .sf() is survival function; returns chance of being > value, not >= value\n\ndistributions = {\n    \"1d4\": dice_distribution(1, 1, 4),\n    \"2d4\": dice_distribution(2, 1, 4),\n    \"1d6\": dice_distribution(1, 1, 6),\n    \"2d6\": dice_distribution(2, 1, 6)\n}",
      "metadata": {
        "trusted": true
      },
      "execution_count": 10,
      "outputs": []
    },
    {
      "cell_type": "code",
      "source": "scenarios = [\n    Scenario(\"level 1 unit vs level 1 unit, hasty lvl1\",\n             UnitGroup(1, 0),\n             UnitGroup(1, 0),\n             action_stats[\"level1\"][\"hasty\"],\n             0\n            )\n]\n\ndiceroll = distributions[\"1d4\"]\nchance_to_win = probability_of_roll_geq_than_value(diceroll, get_scenario_roll_to_win(scenarios[0]))\nprint(chance_to_win)",
      "metadata": {
        "trusted": true
      },
      "execution_count": 14,
      "outputs": [
        {
          "name": "stdout",
          "text": "0.25\n",
          "output_type": "stream"
        }
      ]
    }
  ]
}